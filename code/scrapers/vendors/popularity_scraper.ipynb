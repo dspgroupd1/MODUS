{
 "cells": [
  {
   "cell_type": "code",
   "execution_count": 2,
   "metadata": {},
   "outputs": [
    {
     "data": {
      "text/plain": [
       "['1P-LSD',\n",
       " '1cP-LSD',\n",
       " '2-FMA',\n",
       " '2-MMC',\n",
       " '2C-B-FLY',\n",
       " '2F-Ketamine',\n",
       " '3-CMC',\n",
       " '4-FMA',\n",
       " '4F-MPH',\n",
       " '5-MeO-DMT',\n",
       " 'Flunitrazolam',\n",
       " 'O-DSMT']"
      ]
     },
     "execution_count": 2,
     "metadata": {},
     "output_type": "execute_result"
    }
   ],
   "source": [
    "from bs4 import BeautifulSoup \n",
    "import requests\n",
    "import os\n",
    "import csv\n",
    "\n",
    "class Funcaps_pop_Scraper():\n",
    "\tdef __init__(self):\n",
    "\t\tself.url = 'https://funcaps.nl/research-chemicals/populaire-chemicals.html'\n",
    "\n",
    "\tdef get_names(self):\n",
    "\t\tpage = 1\n",
    "\t\ttotal_pages = False\n",
    "\t\tdrugs = []\n",
    "\t\twhile True:\n",
    "\t\t\turl = self.url + '?p=' + str(page)\n",
    "\t\t\tr = requests.get(url)\n",
    "\t\t\tsoup = BeautifulSoup(r.content, 'html.parser')\n",
    "\t\t\tif not total_pages:\n",
    "\t\t\t\tdiv = soup.find('div', 'field cs-pagination__page-provider')\n",
    "\t\t\t\ttotal_pages = int(div.text.split('/')[1].strip())\n",
    "\t\t\tdivs = soup.findAll('div', 'cs-product-tile__name')\n",
    "\t\t\tfor div in divs:\n",
    "\t\t\t\tdrug = div.text.strip()\n",
    "\t\t\t\tdrug = self.clean_name(drug)\n",
    "\t\t\t\tif drug:\n",
    "\t\t\t\t\tdrugs.append(drug)\n",
    "\t\t\tpage += 1\n",
    "\t\t\tif page > total_pages:\n",
    "\t\t\t\tbreak\n",
    "\t\tdrugs = list(dict.fromkeys(drugs))\n",
    "\t\tdrugs = sorted(drugs)\n",
    "\t\t# for index, drug in enumerate(sorted(drugs)):\n",
    "\t\t# \tprint(index, drug)\n",
    "\t\treturn drugs\n",
    "\t\t\n",
    "\tdef clean_name(self, drug):\n",
    "\t\tdrug = drug.split()[0]\n",
    "\n",
    "\t\tif 'Muscle' in drug:\t# to exlude anaboles\n",
    "\t\t\treturn False\n",
    "\t\tif 'MX' in drug:\t\t# to include MXiPr and MXPr\n",
    "\t\t\treturn drug\n",
    "\t\t\t\n",
    "\t\tif '-' in drug:\n",
    "\t\t\treturn drug\n",
    "\t\tif drug.isupper():\n",
    "\t\t\treturn drug\n",
    "\t\tif drug[-3:] == 'pam':\n",
    "\t\t\treturn drug\n",
    "\t\tif drug[-3:] == 'lam':\n",
    "\t\t\treturn drug\n",
    "\t\tif drug[-3:] == 'ine':\n",
    "\t\t\treturn drug\n",
    "\t\treturn False\n",
    "\t\n",
    "scraper = Funcaps_pop_Scraper()\n",
    "scraper.get_names()\n",
    "\n"
   ]
  },
  {
   "cell_type": "code",
   "execution_count": 13,
   "metadata": {},
   "outputs": [
    {
     "data": {
      "text/plain": [
       "['3-CMC',\n",
       " '2-MMC',\n",
       " 'Pyrazolam',\n",
       " 'Flunitrazolam',\n",
       " 'Bromazolam',\n",
       " '6-APB',\n",
       " 'O-DSMT',\n",
       " '2F-Ketamine',\n",
       " '1P-LSD',\n",
       " '2-FMA',\n",
       " '4F-Methylfenidaat',\n",
       " '4-HO-MET']"
      ]
     },
     "execution_count": 13,
     "metadata": {},
     "output_type": "execute_result"
    }
   ],
   "source": [
    "class Homechemistry_pop_Scraper():\n",
    "\t\n",
    "\tdef get_names(self):\n",
    "\t\tdrugs = []\n",
    "\n",
    "\t\tr = requests.get('https://homechemistry.nl/shop/chemicals/')\n",
    "\t\tsoup = BeautifulSoup(r.content, 'html.parser')\n",
    "\t\tul = soup.find('li', class_='sf-dropdown menu-item-207801')\n",
    "\t\tlis = ul.find_all('li')\n",
    "\t\t\n",
    "\t\tfor div in lis:\n",
    "\t\t\tdrug = div.text.strip()\n",
    "\t\t\tdrug = self.clean_name(drug)\n",
    "\t\t\tif drug:\n",
    "\t\t\t\t#print(drug)\n",
    "\t\t\t\tdrugs.append(drug)\n",
    "\t\tdrugs = list(dict.fromkeys(drugs))\n",
    "\t\t# for index, drug in enumerate(sorted(drugs)):\n",
    "\t\t# \tprint(index, drug)\n",
    "\t\treturn drugs\n",
    "\n",
    "\tdef clean_name(self, drug):\n",
    "\t\tif len(drug) > 0:\n",
    "\t\t\tdrug = drug.split()[0]\n",
    "\n",
    "\t\tif 'MX' in drug:\t\t# to include MXiPr and MXPr\n",
    "\t\t\treturn drug\n",
    "\n",
    "\t\tif '-' in drug:\n",
    "\t\t\treturn drug\n",
    "\t\tif drug.isupper():\n",
    "\t\t\treturn drug\n",
    "\t\tif drug[-3:] == 'pam':\n",
    "\t\t\treturn drug\n",
    "\t\tif drug[-3:] == 'lam':\n",
    "\t\t\treturn drug\n",
    "\t\tif drug[-3:] == 'ine':\n",
    "\t\t\treturn drug\n",
    "\t\treturn False\n",
    "\n",
    "scraper = Homechemistry_pop_Scraper()\n",
    "scraper.get_names()"
   ]
  },
  {
   "cell_type": "code",
   "execution_count": 19,
   "metadata": {},
   "outputs": [
    {
     "data": {
      "text/plain": [
       "['2-MMC', '1V-LSD', '3-CMC', '1cP-LSD', '4-HO-MET', '1P-LSD']"
      ]
     },
     "execution_count": 19,
     "metadata": {},
     "output_type": "execute_result"
    }
   ],
   "source": [
    "class Realchems_pop_Scraper():\n",
    "\t\n",
    "\tdef get_names(self):\n",
    "\t\tdrugs = []\n",
    "\n",
    "\t\tr = requests.get('https://realchems.nl/')\n",
    "\t\tsoup = BeautifulSoup(r.content, 'html.parser')\n",
    "\n",
    "\t\tul = soup.find('div', class_='nw-product-list-row grid-slider')\n",
    "\t\tlis = ul.find_all('h4')\n",
    "\t\t\n",
    "\t\tfor div in lis:\n",
    "\t\t\tdrug = div.text.strip()\n",
    "\t\t\tdrug = self.clean_name(drug)\n",
    "\t\t\tif drug:\n",
    "\t\t\t\tdrugs.append(drug)\n",
    "\t\tdrugs = list(dict.fromkeys(drugs))\n",
    "\t\treturn drugs\n",
    "\n",
    "\tdef clean_name(self, drug):\n",
    "\t\tif len(drug) > 0:\n",
    "\t\t\tdrug = drug.split()[0]\n",
    "\n",
    "\t\tif 'CRYPTO' in drug:\t# to exlude crypto tabs\n",
    "\t\t\treturn False\n",
    "\n",
    "\t\tif 'Lab' in drug:\t\t# to exlude Lab equipment\n",
    "\t\t\treturn False\n",
    "\t\t\n",
    "\t\tif 'Galaxy' in drug:\t# to exlude galaxy tab\n",
    "\t\t\treturn False\n",
    "\t\t\n",
    "\t\tif 'MX' in drug:\t\t# to include MXiPr and MXPr\n",
    "\t\t\treturn drug\n",
    "\n",
    "\t\tif '-' in drug:\n",
    "\t\t\treturn drug\n",
    "\t\tif drug.isupper():\n",
    "\t\t\treturn drug\n",
    "\t\tif drug[-3:] == 'pam':\n",
    "\t\t\treturn drug\n",
    "\t\tif drug[-3:] == 'lam':\n",
    "\t\t\treturn drug\n",
    "\t\tif drug[-3:] == 'ine':\n",
    "\t\t\treturn drug\n",
    "\t\treturn False\n",
    "\n",
    "scraper = Realchems_pop_Scraper()\n",
    "scraper.get_names()\n"
   ]
  },
  {
   "cell_type": "code",
   "execution_count": 27,
   "metadata": {},
   "outputs": [
    {
     "data": {
      "text/plain": [
       "['3-MMC', '4-FMA']"
      ]
     },
     "execution_count": 27,
     "metadata": {},
     "output_type": "execute_result"
    }
   ],
   "source": [
    "class Fmp_pop_Scraper():\n",
    "\n",
    "\tdef get_names(self):\n",
    "\t\tdrugs = []\n",
    "\t\tr = requests.get('https://www.4fmp.net/shop/')\n",
    "\t\tsoup = BeautifulSoup(r.content, 'html.parser')\n",
    "\t\t\n",
    "\t\tul = soup.find('aside', { \"id\" : \"text-17\" })\n",
    "\t\tlis = ul.find_all('p')\n",
    "\n",
    "\t\tfor div in lis:\n",
    "\t\t\tdrug = div.text.strip()\n",
    "\t\t\tdrug = self.clean_name(drug)\n",
    "\t\t\tif drug:\n",
    "\t\t\t\tdrugs.append(drug)\n",
    "\t\tdrugs = list(dict.fromkeys(drugs))\n",
    "\t\tdrugs = sorted(drugs)\n",
    "\t\t# for index, drug in enumerate(sorted(drugs)):\n",
    "\t\t# \tprint(index, drug)\n",
    "\t\treturn drugs\n",
    "\n",
    "\tdef clean_name(self, drug):\n",
    "\t\tdrug = drug.split()[0]\n",
    "\n",
    "\t\tif 'Mephedrene' in drug:\t\t# to include Mephedrene\n",
    "\t\t\treturn drug\n",
    "\t\tif '-' in drug:\n",
    "\t\t\treturn drug\n",
    "\t\tif drug.isupper():\n",
    "\t\t\treturn drug\n",
    "\t\tif drug[-3:] == 'pam':\n",
    "\t\t\treturn drug\n",
    "\t\tif drug[-3:] == 'lam':\n",
    "\t\t\treturn drug\n",
    "\t\tif drug[-3:] == 'ine':\n",
    "\t\t\treturn drug\n",
    "\t\treturn False\n",
    "\n",
    "scraper = Fmp_pop_Scraper()\n",
    "scraper.get_names()"
   ]
  },
  {
   "cell_type": "markdown",
   "metadata": {},
   "source": [
    "#### Research-chemicals-kopen.nl has not 'popular' category"
   ]
  }
 ],
 "metadata": {
  "kernelspec": {
   "display_name": "Python 3.10.6 ('dsp')",
   "language": "python",
   "name": "python3"
  },
  "language_info": {
   "codemirror_mode": {
    "name": "ipython",
    "version": 3
   },
   "file_extension": ".py",
   "mimetype": "text/x-python",
   "name": "python",
   "nbconvert_exporter": "python",
   "pygments_lexer": "ipython3",
   "version": "3.10.6"
  },
  "orig_nbformat": 4,
  "vscode": {
   "interpreter": {
    "hash": "3d9515017c62873a936a30bd16ab7e6456a6952f377db895fdc026b4c612c8d8"
   }
  }
 },
 "nbformat": 4,
 "nbformat_minor": 2
}
